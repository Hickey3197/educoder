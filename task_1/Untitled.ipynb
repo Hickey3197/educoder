{
 "cells": [
  {
   "cell_type": "code",
   "execution_count": 1,
   "id": "d8ed7a43",
   "metadata": {},
   "outputs": [],
   "source": [
    "import numpy as np\n",
    "import struct"
   ]
  },
  {
   "cell_type": "code",
   "execution_count": 2,
   "id": "6d64f6b7",
   "metadata": {},
   "outputs": [],
   "source": [
    "def createMatrixList(len,rows,cols):\n",
    "    MatrixList = np.zeros((len,rows,cols),dtype=np.int8)\n",
    "    for i in range(len):\n",
    "        for j in range(rows):\n",
    "            for k in range(cols):\n",
    "               MatrixList[i][j][k] = (i+1)*10+(j)*cols+(k+1)\n",
    "    return MatrixList"
   ]
  },
  {
   "cell_type": "code",
   "execution_count": null,
   "id": "aa325a5a",
   "metadata": {},
   "outputs": [],
   "source": [
    "def writeMatrixList(filename,matrix_list):\n",
    "    matrixData = [2051]\n",
    "    matrixData.extend(matrix_list.shape)\n",
    "    matrixData.extend(matrix_list.flatten())\n",
    "    index = 0\n",
    "    with open(filename,'wb') as f:\n",
    "        for data in matrixData:\n",
    "            if index < 4:\n",
    "                s = struct.pack('>i', data)\n",
    "                f.write(s)\n",
    "            else:\n",
    "                s = struct.pack('>B', data)\n",
    "                f.write(s)\n",
    "            index +=1"
   ]
  },
  {
   "cell_type": "code",
   "execution_count": null,
   "id": "20723c3c",
   "metadata": {},
   "outputs": [],
   "source": [
    "def readMatrixFromFile(filename):\n",
    "    data = open(filename, 'rb').read()\n",
    "    off_set = 0\n",
    "    header = '>iiii'\n",
    "    magic_number, num_matrix, rows, cols = struct.unpack_from(header, data, off_set)\n",
    "    off_set += struct.calcsize(header)\n",
    "    fmt_Matrix = '>{}B'.format(num_matrix*rows*cols)\n",
    "    matrix_list = struct.unpack_from(fmt_Matrix, data, off_set)\n",
    "    matrix_list = np.reshape(matrix_list, (num_matrix, rows, cols))\n",
    "    return matrix_list"
   ]
  },
  {
   "cell_type": "code",
   "execution_count": null,
   "id": "77c385cc",
   "metadata": {},
   "outputs": [],
   "source": [
    "def trainBatchReader(idx_filename, batch_size, drop_last):\n",
    "    data = open(idx_filename, 'rb').read()\n",
    "    off_set = 0\n",
    "    header = '>iiii'\n",
    "    magic_number, num_matrix, rows, cols = struct.unpack_from(header, data, off_set)\n",
    "    off_set += struct.calcsize(header)\n",
    "    fmt_Matrix = '>{}B'.format(num_matrix*rows*cols)\n",
    "    matrix_list = struct.unpack_from(fmt_Matrix, data, off_set)\n",
    "    matrix_list = np.reshape(matrix_list, (num_matrix, rows, cols))\n",
    "    num_batch= 0\n",
    "    if drop_last:\n",
    "        num_batch = num_matrix // batch_size\n",
    "    else:\n",
    "        if(num_matrix % batch_size == 0):\n",
    "            num_batch = num_matrix // batch_size\n",
    "        else:\n",
    "            num_batch = num_matrix // batch_size + 1\n",
    "    for i in range(num_batch):\n",
    "        matrix_batch = matrix_list[batch_size*i:batch_size*(i+1)]\n",
    "        yield list(matrix_batch)"
   ]
  },
  {
   "cell_type": "code",
   "execution_count": null,
   "id": "77f66303",
   "metadata": {},
   "outputs": [],
   "source": [
    "from CreateMatrix import createMatrixList\n",
    "\n",
    "if __name__ == '__main__':\n",
    "    test = input().split(' ')\n",
    "    length,rows,cols=list(map(int, test))\n",
    "    matrix_list = createMatrixList(length,rows,cols)\n",
    "    print(matrix_list)"
   ]
  },
  {
   "cell_type": "code",
   "execution_count": null,
   "id": "23faebbe",
   "metadata": {},
   "outputs": [],
   "source": [
    "import numpy as np\n",
    "import CreateMatrix\n",
    "import WriteMatrix\n",
    "import ReadMatrix\n",
    "if __name__ == '__main__':\n",
    "    test = input().split(' ')\n",
    "    length,rows,cols=list(map(int, test))\n",
    "    matrix_list = CreateMatrix.createMatrixList(length,rows,cols)\n",
    "    WriteMatrix.writeMatrixList('/data/workspace/myshixun/creatematrix/data/data.idx3.ubyte',matrix_list)\n",
    "    matrix_list = ReadMatrix.readMatrixFromFile('/data/workspace/myshixun/creatematrix/data/data.idx3.ubyte')\n",
    "    print(type(matrix_list))\n",
    "    print(matrix_list)"
   ]
  },
  {
   "cell_type": "code",
   "execution_count": null,
   "id": "e9b90322",
   "metadata": {},
   "outputs": [],
   "source": [
    "import numpy as np\n",
    "import struct\n",
    "from CreatMatrix import createMatrixList\n",
    "from WriteMatrix import writeMatrixList\n",
    "from BatchReader import trainBatchReader\n",
    "\n",
    "if __name__ == '__main__':\n",
    "    *test,batch,drop = input().split(' ')\n",
    "    print(test,batch,drop)\n",
    "    length,rows,cols=list(map(int, test))\n",
    "    matrix_list = createMatrixList(length,rows,cols)\n",
    "    writeMatrixList('/data/workspace/myshixun/creatematrix/data/data.idx3.ubyte',matrix_list)\n",
    "    reader = trainBatchReader(idx_filename='/data/workspace/myshixun/creatematrix/data/data.idx3.ubyte',batch_size=int(batch), drop_last=(drop=='True'))\n",
    "    print(type(reader))\n",
    "    for id, data in enumerate(reader):\n",
    "        print(id,data)"
   ]
  },
  {
   "cell_type": "code",
   "execution_count": null,
   "id": "24e19ded",
   "metadata": {},
   "outputs": [],
   "source": [
    "import numpy as np\n",
    "import struct\n",
    "import CreateMatrix\n",
    "from WriteMatrix import writeMatrixList\n",
    "type2code_dict = {'uint8':0x08,'int8':0x09,'int16':0x0B,'int32':0x0C,'float32':0x0D,'float64':0x0E}\n",
    "code2type_dict = {0x08: 'B', 0x09: 'b', 0x0B: 'h', 0x0c: 'i', 0x0D: 'f', 0x0E: 'd'}\n",
    "\n",
    "def readMatrixFromFile(filename):\n",
    "    with open(filename,'rb') as f:\n",
    "        data_buf = f.read()\n",
    "        off_set = 0\n",
    "        file_head_fmt = '>HBB'#格式定义，>表示高位在前，I表示4字节整数\n",
    "        _,dcode,dimslen = struct.unpack_from(file_head_fmt,data_buf,off_set)\n",
    "        off_set += struct.calcsize(file_head_fmt)\n",
    "\n",
    "        file_head_fmt = '>{}I'.format(dimslen)\n",
    "        shapes = struct.unpack_from(file_head_fmt,data_buf,off_set)\n",
    "        off_set += struct.calcsize(file_head_fmt)\n",
    "\n",
    "        data_fmt = '>'+ str(np.prod(shapes)) + code2type_dict[dcode]\n",
    "        matrix_list = struct.unpack_from(data_fmt,data_buf,off_set)\n",
    "        matrix_list = np.reshape(matrix_list,shapes)\n",
    "\n",
    "    return matrix_list\n",
    "    \n",
    "if __name__ == '__main__':\n",
    "    matrix_list = CreateMatrix.createMatrixList(len=10,rows=2,cols=3)\n",
    "    writeMatrixList('/data/workspace/myshixun/creatematrix/data/data.idx3.ubyte',matrix_list)\n",
    "    print('read')\n",
    "\n",
    "    matrix_list = readMatrixFromFile('/data/workspace/myshixun/creatematrix/data/data.idx3.ubyte')\n",
    "    print(matrix_list)"
   ]
  }
 ],
 "metadata": {
  "kernelspec": {
   "display_name": "Python 3 (ipykernel)",
   "language": "python",
   "name": "python3"
  },
  "language_info": {
   "codemirror_mode": {
    "name": "ipython",
    "version": 3
   },
   "file_extension": ".py",
   "mimetype": "text/x-python",
   "name": "python",
   "nbconvert_exporter": "python",
   "pygments_lexer": "ipython3",
   "version": "3.9.7"
  }
 },
 "nbformat": 4,
 "nbformat_minor": 5
}
